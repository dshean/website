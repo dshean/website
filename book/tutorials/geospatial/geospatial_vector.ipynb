{
 "cells": [
  {
   "cell_type": "markdown",
   "id": "sophisticated-nebraska",
   "metadata": {},
   "source": [
    "# Geospatial Data Analysis: Vector data\n",
    "SnowEx Hackweek  \n",
    "July 14, 2021"
   ]
  },
  {
   "cell_type": "markdown",
   "id": "international-orleans",
   "metadata": {},
   "source": [
    "## Introduction\n",
    "This tutorial will attempt to cover key fundamentals of geospatial data analysis with Python, with emphasis on vector datasets"
   ]
  },
  {
   "cell_type": "markdown",
   "id": "sunset-exercise",
   "metadata": {},
   "source": [
    "## Objectives\n",
    "By the end of this tutorial, the participant should be able to:\n",
    "* ..."
   ]
  },
  {
   "cell_type": "markdown",
   "id": "united-equipment",
   "metadata": {},
   "source": [
    "## Potential Topics\n",
    "* Vector data types: points, lines, polygons\n",
    "* Vector data formats: shapefiles, geojson, geopackage, csv\n",
    "* Geometry\n",
    "* Coordinate systems\n",
    "* Projections\n",
    "* GeoPandas\n",
    "    * Opening shapefiles and other geospatial data\n",
    "    * Importing point data\n",
    "    * Reprojection\n",
    "    * Geometry operations\n",
    "* DataFrame analysis\n",
    "    * Filtering\n",
    "    * Calculating new fields\n",
    "    * Spatial analysis\n",
    "        * Buffer, intersect?\n",
    "* SNOTEL data\n",
    "    * 3D spatial coordinates and time\n",
    "* Combining vector and raster data\n",
    "    * Sampling raster or ndarray at points\n",
    "    * Zonal statistics for polygons\n",
    "    * Clipping a raster by a polygon\n",
    "* Interpolation\n",
    "* Binning point and raster data\n",
    "    * x,y (hex bins, KDE)\n",
    "    * z (elevation bins - hypsometry, snow depth vs. elevation)"
   ]
  },
  {
   "cell_type": "markdown",
   "id": "inner-contrary",
   "metadata": {},
   "source": [
    "## Sample data\n",
    "Suggested by Megan:\n",
    "* snow pits\n",
    "* depth transect or spiral around snow pits\n",
    "* SNOTEL\n",
    "\n",
    "Intepolation of ~300 m depth spiral at GM, comparison with raster data"
   ]
  },
  {
   "cell_type": "markdown",
   "id": "interracial-smooth",
   "metadata": {},
   "source": [
    "## Vector cookbook\n",
    "These are some common operations that you may need for your projects. We hope that you can review this code, and copy/paste to use in a modular fashion for your projects, so you don't have to reinvent the wheel when time is limited"
   ]
  },
  {
   "cell_type": "code",
   "execution_count": null,
   "id": "agreed-nightmare",
   "metadata": {},
   "outputs": [],
   "source": []
  }
 ],
 "metadata": {
  "kernelspec": {
   "display_name": "Python 3",
   "language": "python",
   "name": "python3"
  },
  "language_info": {
   "codemirror_mode": {
    "name": "ipython",
    "version": 3
   },
   "file_extension": ".py",
   "mimetype": "text/x-python",
   "name": "python",
   "nbconvert_exporter": "python",
   "pygments_lexer": "ipython3",
   "version": "3.8.8"
  }
 },
 "nbformat": 4,
 "nbformat_minor": 5
}
